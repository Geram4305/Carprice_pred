{
 "cells": [
  {
   "cell_type": "code",
   "execution_count": 54,
   "id": "032fbcac",
   "metadata": {},
   "outputs": [],
   "source": [
    "import pandas as pd\n",
    "import numpy as np\n",
    "import seaborn as sns\n",
    "import matplotlib.pyplot as plt\n",
    "import random\n",
    " import pandas as pd\n",
    "import numpy as np\n",
    "import seaborn as sns\n",
    "import matplotlib.pyplot as plt\n",
    "import random\n",
    "from sklearn.ensemble import RandomForestRegressor\n",
    "from sklearn.model_selection import RandomizedSearchCV\n",
    "from sklearn.model_selection import train_test_split\n",
    "import pickle\n",
    "\n",
    "np.random.seed(0) \n"
   ]
  },
  {
   "cell_type": "markdown",
   "id": "4bd12ce4",
   "metadata": {},
   "source": [
    "# Testing the deployed model"
   ]
  },
  {
   "cell_type": "code",
   "execution_count": 124,
   "id": "fee2bcdc",
   "metadata": {},
   "outputs": [
    {
     "data": {
      "text/plain": [
       "'{\"carprice_predictions\":[12225.008249999997,11101.339499999998,13591.285249999999]}'"
      ]
     },
     "execution_count": 124,
     "metadata": {},
     "output_type": "execute_result"
    }
   ],
   "source": [
    "import requests\n",
    "from flask import Flask, request, jsonify, render_template\n",
    "\n",
    "vehicle_details = {\n",
    "    'enginesize': [149, 120, 130],\n",
    "    'curbweight': [2155, 1600, 1655],\n",
    "    'highwaympg': [40, 50, 45],\n",
    "    'horsepower': [105, 110, 120],\n",
    "    'carwidth': [76.2, 75.2, 74.3],\n",
    "}\n",
    "\n",
    "url='https://car-price-pred.herokuapp.com/' #from the app created in heroku\n",
    "app = Flask(__name__)\n",
    "r = requests.post(url, json=vehicle_details)\n",
    "r.text.strip()\n"
   ]
  },
  {
   "cell_type": "markdown",
   "id": "3f2b895c",
   "metadata": {},
   "source": [
    "The prediction values match with the ones in the prediction"
   ]
  },
  {
   "cell_type": "code",
   "execution_count": null,
   "id": "53b71377",
   "metadata": {},
   "outputs": [],
   "source": []
  },
  {
   "cell_type": "code",
   "execution_count": null,
   "id": "53397cd3",
   "metadata": {},
   "outputs": [],
   "source": []
  }
 ],
 "metadata": {
  "kernelspec": {
   "display_name": "Python 3 (ipykernel)",
   "language": "python",
   "name": "python3"
  },
  "language_info": {
   "codemirror_mode": {
    "name": "ipython",
    "version": 3
   },
   "file_extension": ".py",
   "mimetype": "text/x-python",
   "name": "python",
   "nbconvert_exporter": "python",
   "pygments_lexer": "ipython3",
   "version": "3.9.13"
  }
 },
 "nbformat": 4,
 "nbformat_minor": 5
}
