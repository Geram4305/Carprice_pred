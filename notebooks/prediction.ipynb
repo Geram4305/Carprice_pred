{
 "cells": [
  {
   "cell_type": "code",
   "execution_count": 1,
   "id": "032fbcac",
   "metadata": {},
   "outputs": [],
   "source": [
    "import pandas as pd\n",
    "import numpy as np\n",
    "import seaborn as sns\n",
    "import matplotlib.pyplot as plt\n",
    "import random\n",
    "from sklearn.ensemble import RandomForestRegressor\n",
    "from sklearn.model_selection import RandomizedSearchCV\n",
    "from sklearn.model_selection import train_test_split\n",
    "import pickle\n",
    "\n",
    "np.random.seed(0) \n"
   ]
  },
  {
   "cell_type": "code",
   "execution_count": 2,
   "id": "78585809",
   "metadata": {},
   "outputs": [],
   "source": [
    "# load saved model\n",
    "with open('/Model_files/carprice_rf.pkl' , 'rb') as f:\n",
    "    model_rf = pickle.load(f)"
   ]
  },
  {
   "cell_type": "markdown",
   "id": "444ac170",
   "metadata": {},
   "source": [
    "# Prediction on a random sample of data"
   ]
  },
  {
   "cell_type": "code",
   "execution_count": 3,
   "id": "fc078e96",
   "metadata": {},
   "outputs": [],
   "source": [
    "vehicle_details = {\n",
    "    'enginesize': [149, 120, 130],\n",
    "    'curbweight': [2155, 1600, 1655],\n",
    "    'highwaympg': [40, 50, 45],\n",
    "    'horsepower': [105, 110, 120],\n",
    "    'carwidth': [76.2, 75.2, 74.3],\n",
    "}"
   ]
  },
  {
   "cell_type": "code",
   "execution_count": 4,
   "id": "e5117db6",
   "metadata": {},
   "outputs": [
    {
     "data": {
      "text/plain": [
       "array([12225.00825, 11101.3395 , 13591.28525])"
      ]
     },
     "execution_count": 4,
     "metadata": {},
     "output_type": "execute_result"
    }
   ],
   "source": [
    "#Predict\n",
    "def predict_price(det, model):\n",
    "    if type(det) == dict:\n",
    "        df = pd.DataFrame(det)\n",
    "    else:\n",
    "        df = det\n",
    "    df = pd.DataFrame.from_dict(det)\n",
    "    return model.predict(df)\n",
    "\n",
    "predict_price(vehicle_details,model_rf)"
   ]
  },
  {
   "cell_type": "code",
   "execution_count": null,
   "id": "823c04bf",
   "metadata": {},
   "outputs": [],
   "source": []
  },
  {
   "cell_type": "code",
   "execution_count": null,
   "id": "53b71377",
   "metadata": {},
   "outputs": [],
   "source": []
  },
  {
   "cell_type": "code",
   "execution_count": null,
   "id": "53397cd3",
   "metadata": {},
   "outputs": [],
   "source": []
  }
 ],
 "metadata": {
  "kernelspec": {
   "display_name": "Python 3 (ipykernel)",
   "language": "python",
   "name": "python3"
  },
  "language_info": {
   "codemirror_mode": {
    "name": "ipython",
    "version": 3
   },
   "file_extension": ".py",
   "mimetype": "text/x-python",
   "name": "python",
   "nbconvert_exporter": "python",
   "pygments_lexer": "ipython3",
   "version": "3.9.13"
  }
 },
 "nbformat": 4,
 "nbformat_minor": 5
}
